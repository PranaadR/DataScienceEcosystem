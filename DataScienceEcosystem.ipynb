{
 "cells": [
  {
   "cell_type": "markdown",
   "id": "382be4c1-6dae-4984-9b5e-32959150361b",
   "metadata": {},
   "source": [
    "# Data Science Tools and Ecosystem"
   ]
  },
  {
   "cell_type": "markdown",
   "id": "f097f378-10bd-47d2-9296-e674f5041257",
   "metadata": {},
   "source": [
    "In this notebook, Data Science Tools and Ecosystem are summarized. \n"
   ]
  },
  {
   "cell_type": "markdown",
   "id": "fef8d017-de0a-4728-9c01-baa2d7b5068d",
   "metadata": {},
   "source": [
    "__Objectives:__\n",
    "\n",
    "* List the popular languages in Data Science\n",
    "* List popular libraries in Data Science\n",
    "* Show some arithmetic expressions\n",
    "* Show popular data science tools"
   ]
  },
  {
   "cell_type": "markdown",
   "id": "60ed71da-6b3a-4457-9d47-d75f9a3331fe",
   "metadata": {},
   "source": [
    "Some of the popular languages that Data Scientists use are:\n",
    "    \n",
    "    1. Python\n",
    "    2. Java\n",
    "    3. R \n",
    "    "
   ]
  },
  {
   "cell_type": "markdown",
   "id": "d2fe3925-4213-483d-9d77-cf93e0112281",
   "metadata": {},
   "source": [
    "Some of the commonly used libraries used by Data Scientists include:\n",
    "    \n",
    "    1. NumPy\n",
    "    2. Pandas\n",
    "    3. Scipy\n",
    "    "
   ]
  },
  {
   "cell_type": "markdown",
   "id": "4fac1409-dc7b-4074-a252-19b82f7b1a64",
   "metadata": {
    "tags": []
   },
   "source": [
    "\n",
    "| Data Science Tools. |\n",
    "|---------------------|\n",
    "| Jupyter Notebook |\n",
    "| RStudio |\n",
    "| Apache Hadoop|\n"
   ]
  },
  {
   "cell_type": "markdown",
   "id": "501d0ac0-0a45-4048-afa1-823f8361a6f0",
   "metadata": {},
   "source": [
    "### Below are a few examples of evaluating arithmetic expressions in Python"
   ]
  },
  {
   "cell_type": "code",
   "execution_count": 3,
   "id": "466fa32d-caf3-424d-9281-d6887c86644f",
   "metadata": {
    "tags": []
   },
   "outputs": [
    {
     "data": {
      "text/plain": [
       "17"
      ]
     },
     "execution_count": 3,
     "metadata": {},
     "output_type": "execute_result"
    }
   ],
   "source": [
    "#This a simple arithmetic expression to mutiply then add integers\n",
    "(3*4)+5"
   ]
  },
  {
   "cell_type": "code",
   "execution_count": 4,
   "id": "6ddbc839-8081-4b2f-84ed-8beeb51b1a1f",
   "metadata": {
    "tags": []
   },
   "outputs": [
    {
     "data": {
      "text/plain": [
       "3.3333333333333335"
      ]
     },
     "execution_count": 4,
     "metadata": {},
     "output_type": "execute_result"
    }
   ],
   "source": [
    "#This will convert 200 minutes to hours by diving by 60\n",
    "\n",
    "200/60 "
   ]
  },
  {
   "cell_type": "markdown",
   "id": "71da8fb3-a56d-42a0-83ba-e8c57dfa8607",
   "metadata": {},
   "source": [
    "## Author\n",
    "Pranaad R\n"
   ]
  },
  {
   "cell_type": "code",
   "execution_count": null,
   "id": "196fe5b1-a494-4bbb-891b-56c3711cd0e7",
   "metadata": {},
   "outputs": [],
   "source": []
  }
 ],
 "metadata": {
  "kernelspec": {
   "display_name": "Python",
   "language": "python",
   "name": "conda-env-python-py"
  },
  "language_info": {
   "codemirror_mode": {
    "name": "ipython",
    "version": 3
   },
   "file_extension": ".py",
   "mimetype": "text/x-python",
   "name": "python",
   "nbconvert_exporter": "python",
   "pygments_lexer": "ipython3",
   "version": "3.7.12"
  }
 },
 "nbformat": 4,
 "nbformat_minor": 5
}
